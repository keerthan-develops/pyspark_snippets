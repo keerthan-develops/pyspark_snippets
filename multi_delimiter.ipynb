{
 "cells": [
  {
   "cell_type": "code",
   "execution_count": null,
   "id": "2fd5a7b2-f3a3-4ca8-9b5b-c3624a70dda4",
   "metadata": {},
   "outputs": [],
   "source": [
    "import findspark\n",
    "findspark.init()\n",
    "from pyspark.sql import SparkSession, types\n",
    "from pathlib import Path"
   ]
  },
  {
   "cell_type": "code",
   "execution_count": null,
   "id": "acbe5b81",
   "metadata": {},
   "outputs": [],
   "source": [
    "Path().cwd()\n",
    "Path('/Users/keerthan/Learnings/Pyspark_Practice').resolve()"
   ]
  },
  {
   "cell_type": "code",
   "execution_count": null,
   "id": "79671f00-8bd6-4aa2-965a-34b11e9ae3a9",
   "metadata": {},
   "outputs": [],
   "source": [
    "spark = SparkSession.builder\\\n",
    ".master('local').appName('Multi Delimiter').getOrCreate()\n",
    "sc=spark.sparkContext"
   ]
  },
  {
   "cell_type": "code",
   "execution_count": null,
   "id": "faa186f8-2d63-426c-8ac2-8cdd930584ed",
   "metadata": {},
   "outputs": [],
   "source": [
    "rdd = sc.textFile('/Datasets/multi_delim.txt')"
   ]
  },
  {
   "cell_type": "code",
   "execution_count": null,
   "id": "d735621f-adf6-48f3-9971-fc1bea76ec98",
   "metadata": {},
   "outputs": [],
   "source": [
    "rdd.collect()"
   ]
  },
  {
   "cell_type": "code",
   "execution_count": null,
   "id": "6de0cb70-a68b-47f4-b84e-c494b3ddc244",
   "metadata": {},
   "outputs": [],
   "source": [
    "header_str = rdd.first()\n",
    "schema = header_str.split('~|')\n",
    "print(schema)"
   ]
  },
  {
   "cell_type": "code",
   "execution_count": null,
   "id": "2f928e77-67c2-484d-b8e6-32571cdc424c",
   "metadata": {},
   "outputs": [],
   "source": [
    "detail_rdd = rdd.filter(lambda x: not x.startswith('Name'))\n",
    "print(type(detail_rdd.collect()))\n",
    "detail_rdd.collect()"
   ]
  },
  {
   "cell_type": "code",
   "execution_count": null,
   "id": "5b73a08d-fa44-44b2-bf9e-b9122672703c",
   "metadata": {},
   "outputs": [],
   "source": [
    "detail_final_rdd = detail_rdd.map(lambda x: x.split('~|'))\n",
    "#collect_detail = detail_final_rdd.collect()\n",
    "#print(type(detail_final_rdd))\n",
    "#print(type(collect_detail))\n",
    "detail_final_rdd.collect()"
   ]
  },
  {
   "cell_type": "code",
   "execution_count": null,
   "id": "1987da1f-2ebf-4134-a3ee-668af1ea3506",
   "metadata": {},
   "outputs": [],
   "source": [
    "df = detail_final_rdd.toDF(schema)"
   ]
  },
  {
   "cell_type": "code",
   "execution_count": null,
   "id": "f7f3d1ed-46b0-4e51-97db-fc6957057a7a",
   "metadata": {},
   "outputs": [],
   "source": [
    "df.show(truncate=0)"
   ]
  },
  {
   "cell_type": "code",
   "execution_count": null,
   "id": "40870545-1d47-494f-81bb-e49c989dd899",
   "metadata": {},
   "outputs": [],
   "source": [
    "spark.stop()"
   ]
  }
 ],
 "metadata": {
  "kernelspec": {
   "display_name": "Python 3 (ipykernel)",
   "language": "python",
   "name": "python3"
  },
  "language_info": {
   "codemirror_mode": {
    "name": "ipython",
    "version": 3
   },
   "file_extension": ".py",
   "mimetype": "text/x-python",
   "name": "python",
   "nbconvert_exporter": "python",
   "pygments_lexer": "ipython3",
   "version": "3.11.7"
  }
 },
 "nbformat": 4,
 "nbformat_minor": 5
}
