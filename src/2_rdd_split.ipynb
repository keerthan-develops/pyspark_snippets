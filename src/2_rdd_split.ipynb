{
 "cells": [
  {
   "cell_type": "code",
   "execution_count": null,
   "id": "bf77f2a4-ccf2-495b-a7ee-523aed0b90c4",
   "metadata": {},
   "outputs": [],
   "source": [
    "import opendatasets as od"
   ]
  },
  {
   "cell_type": "code",
   "execution_count": null,
   "id": "9cc2818f-69aa-4641-af58-fab813295a28",
   "metadata": {},
   "outputs": [],
   "source": [
    "od.download(\"https://www.kaggle.com/datasets/ayushparwal2026/cars-dataset\")"
   ]
  },
  {
   "cell_type": "code",
   "execution_count": null,
   "id": "c1330990-6d97-4ebc-b914-372d90fd3857",
   "metadata": {},
   "outputs": [],
   "source": [
    "path = '/Pyspark Practice/cars-dataset/'"
   ]
  },
  {
   "cell_type": "code",
   "execution_count": null,
   "id": "caf52e70-6d3f-4ccf-a0f0-07d33040cd61",
   "metadata": {},
   "outputs": [],
   "source": [
    "import findspark\n",
    "findspark.init()\n",
    "from pyspark.sql import SparkSession, types\n",
    "import os"
   ]
  },
  {
   "cell_type": "code",
   "execution_count": null,
   "id": "be50a195-db27-4fcc-a240-63b3886acfd7",
   "metadata": {},
   "outputs": [],
   "source": [
    "spark = SparkSession.builder\\\n",
    ".master('local').appName('rdd practice').getOrCreate()"
   ]
  },
  {
   "cell_type": "code",
   "execution_count": null,
   "id": "482f76b0-4d1e-45fb-a4a5-83f899680f8b",
   "metadata": {},
   "outputs": [],
   "source": [
    "sc=spark.sparkContext\n",
    "os.getcwd()"
   ]
  },
  {
   "cell_type": "code",
   "execution_count": null,
   "id": "e227d952-bebe-4b6d-b5b2-cc5d15c7f0ab",
   "metadata": {},
   "outputs": [],
   "source": [
    "rdd = sc.textFile('/Users/keerthan/Learnings/Pyspark Practice/cars-dataset/used_cars_data.csv')\n",
    "# rdd = sc.textFile('used_cars_data.csv')"
   ]
  },
  {
   "cell_type": "code",
   "execution_count": null,
   "id": "7587df7e-287e-44eb-8437-1b754de8f92d",
   "metadata": {},
   "outputs": [],
   "source": [
    "rdd.getNumPartitions()"
   ]
  },
  {
   "cell_type": "code",
   "execution_count": null,
   "id": "cb82f0ef-cec3-4894-9493-6a0e9d0904fd",
   "metadata": {},
   "outputs": [],
   "source": [
    "rdd.count()"
   ]
  },
  {
   "cell_type": "code",
   "execution_count": null,
   "id": "c061d42f-aec5-4cb6-8d38-839d43e7f4c3",
   "metadata": {},
   "outputs": [],
   "source": [
    "rdd_list = rdd.collect()\n",
    "print(type(rdd_list))\n",
    "print(len(rdd_list))"
   ]
  },
  {
   "cell_type": "code",
   "execution_count": null,
   "id": "cba552f7-0300-421e-9246-c1dca3ba54a7",
   "metadata": {},
   "outputs": [],
   "source": [
    "rdd.first()"
   ]
  },
  {
   "cell_type": "code",
   "execution_count": null,
   "id": "73ceee9d-1056-4b9a-bb79-048d6332732e",
   "metadata": {},
   "outputs": [],
   "source": [
    "header = rdd.filter(lambda x: x.startswith('S.No')).flatMap(lambda x: x.split(','))\n",
    "schema = header.collect()\n",
    "print(type(schema))"
   ]
  },
  {
   "cell_type": "code",
   "execution_count": null,
   "id": "21fe5e77-2c29-4d10-9027-0a87836852b2",
   "metadata": {},
   "outputs": [],
   "source": [
    "detail_rec = rdd.filter(lambda x: not x.startswith('S.No'))\n",
    "#detail_rec.collect()\n",
    "detail_rec.first()\n",
    "print(type(detail_rec))"
   ]
  },
  {
   "cell_type": "code",
   "execution_count": null,
   "id": "7dd2f9a1-d84e-48ab-8273-2f2886acb5ce",
   "metadata": {
    "scrolled": true
   },
   "outputs": [],
   "source": [
    "detail_rec.repartition(1).getNumPartitions()"
   ]
  },
  {
   "cell_type": "code",
   "execution_count": null,
   "id": "ae32e4de-4b9f-4cac-a2e3-41a76469223f",
   "metadata": {},
   "outputs": [],
   "source": [
    "column_split = detail_rec.map(lambda x: x.split(','))\n",
    "#column_split.first()\n",
    "#column_split.take(2)\n",
    "column_split.count()"
   ]
  },
  {
   "cell_type": "code",
   "execution_count": null,
   "id": "01129362-48a0-433f-849f-a37b560efbae",
   "metadata": {},
   "outputs": [],
   "source": [
    "row_split = detail_rec.flatMap(lambda x: x.split(','))\n",
    "#row_split.take(10)\n",
    "row_split.count()"
   ]
  },
  {
   "cell_type": "code",
   "execution_count": null,
   "id": "3645ec0e-abd2-4753-8ed1-20c59b0f88ee",
   "metadata": {},
   "outputs": [],
   "source": [
    "print(type(header))"
   ]
  },
  {
   "cell_type": "code",
   "execution_count": null,
   "id": "bce50d53-421d-4d40-9149-44ca546adb84",
   "metadata": {},
   "outputs": [],
   "source": [
    "column_split.toDF(schema).show(2, False)"
   ]
  },
  {
   "cell_type": "code",
   "execution_count": null,
   "id": "7717a262-3104-4063-91a1-9789773b4704",
   "metadata": {},
   "outputs": [],
   "source": []
  }
 ],
 "metadata": {
  "kernelspec": {
   "display_name": "Python 3 (ipykernel)",
   "language": "python",
   "name": "python3"
  },
  "language_info": {
   "codemirror_mode": {
    "name": "ipython",
    "version": 3
   },
   "file_extension": ".py",
   "mimetype": "text/x-python",
   "name": "python",
   "nbconvert_exporter": "python",
   "pygments_lexer": "ipython3",
   "version": "3.11.7"
  }
 },
 "nbformat": 4,
 "nbformat_minor": 5
}
