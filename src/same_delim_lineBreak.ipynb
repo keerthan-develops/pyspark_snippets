{
 "cells": [
  {
   "cell_type": "code",
   "execution_count": 28,
   "id": "79b213a6-b11d-48e6-bfb4-e940c65ea0eb",
   "metadata": {},
   "outputs": [],
   "source": [
    "from pyspark.sql import SparkSession, types\n",
    "from pyspark.sql.functions import regexp_replace, lit, split, explode, col\n",
    "from pyspark.sql.types import StructType, StructField, StringType, IntegerType"
   ]
  },
  {
   "cell_type": "code",
   "execution_count": 22,
   "id": "a5078ac5-9154-4ab2-b29a-8c94a0f6f8c0",
   "metadata": {},
   "outputs": [],
   "source": [
    "spark = SparkSession.builder.appName(\"Same Delimiter Line Break\").getOrCreate()"
   ]
  },
  {
   "cell_type": "code",
   "execution_count": 23,
   "id": "f2449d2a-d966-46e7-9a8a-c8121e0a7620",
   "metadata": {},
   "outputs": [],
   "source": [
    "sc = spark.sparkContext\n",
    "schema = ('org')"
   ]
  },
  {
   "cell_type": "code",
   "execution_count": 24,
   "id": "c615f67d-7f71-49d6-8d9e-997fbe5ae2e7",
   "metadata": {},
   "outputs": [],
   "source": [
    "# Define the structure for the data frame \n",
    "\n",
    "schema = StructType([\n",
    "    StructField('org', StringType(), True)\n",
    "])"
   ]
  },
  {
   "cell_type": "code",
   "execution_count": 26,
   "id": "30e74a0e-56e7-4623-9fb7-b5f9ce7f6fef",
   "metadata": {},
   "outputs": [],
   "source": [
    "df = spark.read.option('header', 'False').option('inferSchema', 'False').schema(schema).csv('same_delim_lineBreak.txt')"
   ]
  },
  {
   "cell_type": "code",
   "execution_count": 27,
   "id": "f1eab423-a3b9-4473-9f59-06b37785e7de",
   "metadata": {},
   "outputs": [
    {
     "name": "stdout",
     "output_type": "stream",
     "text": [
      "+-------------------------------------------------------+\n",
      "|org                                                    |\n",
      "+-------------------------------------------------------+\n",
      "|Keerthan Adivikolanu|29|M|Harika Vemula|28|F|Baby A|1|M|\n",
      "+-------------------------------------------------------+\n",
      "\n"
     ]
    }
   ],
   "source": [
    "df.show(truncate=0)"
   ]
  },
  {
   "cell_type": "code",
   "execution_count": 31,
   "id": "459ac711-5809-4c19-803b-619873627bd6",
   "metadata": {},
   "outputs": [
    {
     "name": "stdout",
     "output_type": "stream",
     "text": [
      "+-------------------------------------------------------+---------------------------------------------------------+\n",
      "|org                                                    |chk                                                      |\n",
      "+-------------------------------------------------------+---------------------------------------------------------+\n",
      "|Keerthan Adivikolanu|29|M|Harika Vemula|28|F|Baby A|1|M|Keerthan Adivikolanu|29|M|-Harika Vemula|28|F|-Baby A|1|M|\n",
      "+-------------------------------------------------------+---------------------------------------------------------+\n",
      "\n"
     ]
    }
   ],
   "source": [
    "df2 = df.withColumn('chk', regexp_replace(col('org'), '(.*?\\\\|){3}', '$0-')) \n",
    "df2.show(truncate=0)"
   ]
  },
  {
   "cell_type": "code",
   "execution_count": 34,
   "id": "e55cdfdc-ffbe-4e99-952d-be8e7b94bd7d",
   "metadata": {},
   "outputs": [
    {
     "name": "stdout",
     "output_type": "stream",
     "text": [
      "+-------------------------------------------------------+-------------------------+\n",
      "|org                                                    |chk                      |\n",
      "+-------------------------------------------------------+-------------------------+\n",
      "|Keerthan Adivikolanu|29|M|Harika Vemula|28|F|Baby A|1|M|Keerthan Adivikolanu|29|M|\n",
      "|Keerthan Adivikolanu|29|M|Harika Vemula|28|F|Baby A|1|M|Harika Vemula|28|F       |\n",
      "|Keerthan Adivikolanu|29|M|Harika Vemula|28|F|Baby A|1|M|Baby A|1|M               |\n",
      "+-------------------------------------------------------+-------------------------+\n",
      "\n"
     ]
    }
   ],
   "source": [
    "df3 = df2.withColumn('chk', explode(split(col('chk'), '\\|-')))\n",
    "df3.show(truncate=0)"
   ]
  },
  {
   "cell_type": "code",
   "execution_count": 35,
   "id": "63a2a646-0ef6-48c6-ae77-063bf9e38ca0",
   "metadata": {},
   "outputs": [
    {
     "name": "stdout",
     "output_type": "stream",
     "text": [
      "+-------------------------+\n",
      "|col                      |\n",
      "+-------------------------+\n",
      "|Keerthan Adivikolanu|29|M|\n",
      "|Harika Vemula|28|F       |\n",
      "|Baby A|1|M               |\n",
      "+-------------------------+\n",
      "\n"
     ]
    }
   ],
   "source": [
    "df4 = df2.select(explode(split(col('chk'), '\\|-')))\n",
    "df4.show(truncate=0)"
   ]
  },
  {
   "cell_type": "code",
   "execution_count": 46,
   "id": "79f2aa25-757d-4b20-a970-db0e367f0d7e",
   "metadata": {},
   "outputs": [
    {
     "data": {
      "text/plain": [
       "[[\"Row(col='Keerthan Adivikolanu\", '29', \"M')\"],\n",
       " [\"Row(col='Harika Vemula\", '28', \"F')\"],\n",
       " [\"Row(col='Baby A\", '1', \"M')\"]]"
      ]
     },
     "execution_count": 46,
     "metadata": {},
     "output_type": "execute_result"
    }
   ],
   "source": [
    "# Can be done like this as well but in the output we get rows, in the below the right method is there wherein we use index of a list\n",
    "\n",
    "df_final = df4.rdd.map(lambda x: str(x).split('|'))\n",
    "df_final.collect()"
   ]
  },
  {
   "cell_type": "code",
   "execution_count": 48,
   "id": "e07c0382-1957-49f5-8b81-a4b2d2abfe30",
   "metadata": {},
   "outputs": [
    {
     "data": {
      "text/plain": [
       "[['Keerthan Adivikolanu', '29', 'M'],\n",
       " ['Harika Vemula', '28', 'F'],\n",
       " ['Baby A', '1', 'M']]"
      ]
     },
     "execution_count": 48,
     "metadata": {},
     "output_type": "execute_result"
    }
   ],
   "source": [
    "df_final2 = df4.rdd.map(lambda x: x[0].split('|'))\n",
    "df_final2.collect()"
   ]
  },
  {
   "cell_type": "code",
   "execution_count": null,
   "id": "76bd0c58-f59d-4037-be89-5115edf712af",
   "metadata": {},
   "outputs": [],
   "source": [
    "df_final2.toDF(['Name)"
   ]
  }
 ],
 "metadata": {
  "kernelspec": {
   "display_name": "Python 3 (ipykernel)",
   "language": "python",
   "name": "python3"
  },
  "language_info": {
   "codemirror_mode": {
    "name": "ipython",
    "version": 3
   },
   "file_extension": ".py",
   "mimetype": "text/x-python",
   "name": "python",
   "nbconvert_exporter": "python",
   "pygments_lexer": "ipython3",
   "version": "3.11.7"
  }
 },
 "nbformat": 4,
 "nbformat_minor": 5
}
