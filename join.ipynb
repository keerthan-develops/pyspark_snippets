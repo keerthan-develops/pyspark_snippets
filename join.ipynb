{
 "cells": [
  {
   "cell_type": "code",
   "execution_count": 2,
   "metadata": {},
   "outputs": [
    {
     "name": "stderr",
     "output_type": "stream",
     "text": [
      "Setting default log level to \"WARN\".\n",
      "To adjust logging level use sc.setLogLevel(newLevel). For SparkR, use setLogLevel(newLevel).\n",
      "24/04/29 14:05:01 WARN NativeCodeLoader: Unable to load native-hadoop library for your platform... using builtin-java classes where applicable\n"
     ]
    },
    {
     "name": "stdout",
     "output_type": "stream",
     "text": [
      "== Physical Plan ==\n",
      "AdaptiveSparkPlan isFinalPlan=false\n",
      "+- SortMergeJoin [letter#0], [letter#4], Inner\n",
      "   :- Sort [letter#0 ASC NULLS FIRST], false, 0\n",
      "   :  +- Exchange hashpartitioning(letter#0, 200), ENSURE_REQUIREMENTS, [plan_id=21]\n",
      "   :     +- Filter isnotnull(letter#0)\n",
      "   :        +- Scan ExistingRDD[letter#0,number#1L]\n",
      "   +- Sort [letter#4 ASC NULLS FIRST], false, 0\n",
      "      +- Exchange hashpartitioning(letter#4, 200), ENSURE_REQUIREMENTS, [plan_id=22]\n",
      "         +- Filter isnotnull(letter#4)\n",
      "            +- Scan ExistingRDD[letter#4,value#5L]\n",
      "\n",
      "\n",
      "== Physical Plan ==\n",
      "AdaptiveSparkPlan isFinalPlan=false\n",
      "+- BroadcastHashJoin [letter#0], [letter#4], Inner, BuildLeft, false\n",
      "   :- BroadcastExchange HashedRelationBroadcastMode(List(input[0, string, false]),false), [plan_id=46]\n",
      "   :  +- Filter isnotnull(letter#0)\n",
      "   :     +- Scan ExistingRDD[letter#0,number#1L]\n",
      "   +- Filter isnotnull(letter#4)\n",
      "      +- Scan ExistingRDD[letter#4,value#5L]\n",
      "\n",
      "\n",
      "== Physical Plan ==\n",
      "AdaptiveSparkPlan isFinalPlan=false\n",
      "+- SortMergeJoin [letter#0], [letter#4], Inner\n",
      "   :- Sort [letter#0 ASC NULLS FIRST], false, 0\n",
      "   :  +- Exchange hashpartitioning(letter#0, 200), ENSURE_REQUIREMENTS, [plan_id=69]\n",
      "   :     +- Filter isnotnull(letter#0)\n",
      "   :        +- Scan ExistingRDD[letter#0,number#1L]\n",
      "   +- Sort [letter#4 ASC NULLS FIRST], false, 0\n",
      "      +- Exchange hashpartitioning(letter#4, 200), ENSURE_REQUIREMENTS, [plan_id=70]\n",
      "         +- Filter isnotnull(letter#4)\n",
      "            +- Scan ExistingRDD[letter#4,value#5L]\n",
      "\n",
      "\n"
     ]
    }
   ],
   "source": [
    "from pyspark.sql import SparkSession\n",
    "\n",
    "# Create a Spark session\n",
    "spark = SparkSession.builder.appName(\"join\").getOrCreate()\n",
    "#spark.conf.set(\"spark.sql.autoBroadcastJoinThreshold\", -1) \n",
    "\n",
    "# Create the first dataframe\n",
    "df1 = spark.createDataFrame([(\"A\", 1), (\"B\", 2), (\"C\", 3)], [\"letter\", \"number\"])\n",
    "\n",
    "# Create the second dataframe\n",
    "df2 = spark.createDataFrame([(\"A\", 4), (\"B\", 5), (\"D\", 6)], [\"letter\", \"value\"])\n",
    "\n",
    "# Perform the inner join\n",
    "inner_join = df1.join(df2, df1['letter'] == df2['letter'], \"inner\")\n",
    "inner_join.explain()\n",
    "\n",
    "# Perform the inner join\n",
    "inner_join = df1.hint('broadcast').join(df2, df1['letter'] == df2['letter'], \"inner\")\n",
    "inner_join.explain()\n",
    "\n",
    "spark.conf.set(\"spark.sql.join.preferSortMergeJoin\",\"false\")\n",
    "\n",
    "# Perform the inner join\n",
    "inner_join = df1.join(df2, df1['letter'] == df2['letter'], \"inner\")\n",
    "inner_join.explain()"
   ]
  },
  {
   "cell_type": "code",
   "execution_count": 3,
   "metadata": {},
   "outputs": [
    {
     "name": "stderr",
     "output_type": "stream",
     "text": [
      "                                                                                \r"
     ]
    },
    {
     "name": "stdout",
     "output_type": "stream",
     "text": [
      "+----+\n",
      "|num1|\n",
      "+----+\n",
      "|   1|\n",
      "|   1|\n",
      "|   1|\n",
      "|   0|\n",
      "|NULL|\n",
      "|NULL|\n",
      "|   3|\n",
      "+----+\n",
      "\n",
      "+----+\n",
      "|num2|\n",
      "+----+\n",
      "|   1|\n",
      "|   1|\n",
      "|   0|\n",
      "|   0|\n",
      "|NULL|\n",
      "|   4|\n",
      "+----+\n",
      "\n"
     ]
    }
   ],
   "source": [
    "# First dataframe\n",
    "l = [(1, 0, 1, 1), (1, 0, 1, 1), (1, 0, 1, 1), (0, 0, 1, 1), ('', 0, 1, 1), ('', 0, 1, 1), (3, 0, 1, 1)]\n",
    "rdd = spark.sparkContext.parallelize(l)\n",
    "schema1 = [('num1')]\n",
    "df = rdd.toDF(schema1)\n",
    "df = df.drop('_2', '_3', '_4')\n",
    "df.show()\n",
    "\n",
    "# Second dataframe\n",
    "l2 = [(1, 0, 1, 1), (1, 0, 1, 1), (0, 0, 1, 1), (0, 0, 1, 1), ('', 0, 1, 1), (4, 0, 1, 1)]\n",
    "rdd2 = spark.sparkContext.parallelize(l2)\n",
    "schema2 = [('num2')]\n",
    "df2 = rdd2.toDF(schema2)\n",
    "df2 = df2.drop('_2', '_3', '_4')\n",
    "df2.show()\n",
    "\n",
    "df.createOrReplaceTempView('df1')\n",
    "df2.createOrReplaceTempView('df2')\n",
    "\n",
    "# d1.num as num1, d2.num as num2"
   ]
  },
  {
   "cell_type": "code",
   "execution_count": 6,
   "metadata": {},
   "outputs": [
    {
     "name": "stdout",
     "output_type": "stream",
     "text": [
      "+----+------+\n",
      "|num1|lead_1|\n",
      "+----+------+\n",
      "|NULL|  NULL|\n",
      "|NULL|  NULL|\n",
      "|   0|  NULL|\n",
      "|   1|  NULL|\n",
      "|   1|     0|\n",
      "|   1|     1|\n",
      "|   3|     1|\n",
      "+----+------+\n",
      "\n"
     ]
    },
    {
     "name": "stderr",
     "output_type": "stream",
     "text": [
      "24/04/29 14:06:20 WARN WindowExec: No Partition Defined for Window operation! Moving all data to a single partition, this can cause serious performance degradation.\n",
      "24/04/29 14:06:20 WARN WindowExec: No Partition Defined for Window operation! Moving all data to a single partition, this can cause serious performance degradation.\n",
      "24/04/29 14:06:20 WARN WindowExec: No Partition Defined for Window operation! Moving all data to a single partition, this can cause serious performance degradation.\n",
      "24/04/29 14:06:20 WARN WindowExec: No Partition Defined for Window operation! Moving all data to a single partition, this can cause serious performance degradation.\n",
      "24/04/29 14:06:20 WARN WindowExec: No Partition Defined for Window operation! Moving all data to a single partition, this can cause serious performance degradation.\n"
     ]
    }
   ],
   "source": [
    "spark.sql(\"\"\"\n",
    "select num1, lag(num1, 2) over (order by num1) as lead_1\n",
    "from df1\n",
    "\"\"\").show()          \n"
   ]
  },
  {
   "cell_type": "code",
   "execution_count": null,
   "metadata": {},
   "outputs": [],
   "source": []
  }
 ],
 "metadata": {
  "kernelspec": {
   "display_name": "base",
   "language": "python",
   "name": "python3"
  },
  "language_info": {
   "codemirror_mode": {
    "name": "ipython",
    "version": 3
   },
   "file_extension": ".py",
   "mimetype": "text/x-python",
   "name": "python",
   "nbconvert_exporter": "python",
   "pygments_lexer": "ipython3",
   "version": "3.11.7"
  }
 },
 "nbformat": 4,
 "nbformat_minor": 2
}
