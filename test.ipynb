{
 "cells": [
  {
   "cell_type": "code",
   "execution_count": null,
   "metadata": {},
   "outputs": [],
   "source": [
    "import findspark\n",
    "findspark.init()\n",
    "from pyspark.sql import SparkSession, types\n",
    "from pathlib import Path"
   ]
  },
  {
   "cell_type": "code",
   "execution_count": null,
   "metadata": {},
   "outputs": [],
   "source": [
    "# Multi delimiter\n",
    "Path().resolve()\n",
    "Path().cwd()\n",
    "file_path = Path() / 'Datasets' / 'multi_delim.txt'\n",
    "\n",
    "spark = SparkSession\\\n",
    "        .builder\\\n",
    "        .master('local')\\\n",
    "        .appName('sdf')\\\n",
    "        .getOrCreate()\n",
    "sc = spark.sparkContext\n",
    "\n",
    "rdd = sc.textFile(str(file_path))\n",
    "rdd.collect()\n",
    "\n",
    "# RDD Operations\n",
    "header_str = rdd.first()\n",
    "schema = header_str.split('~|')\n",
    "print(schema)\n",
    "\n",
    "rdd.take(1)\n",
    "rdd.collect()\n",
    "\n",
    "#rdd_detail = rdd.filter(lambda x : x.startsWith('Name'))\n",
    "#rdd_detail.collect()\n",
    "\n",
    "rdd_split = rdd.map(lambda x : x.split('~|'))\n",
    "\n",
    "print(type(rdd_split))\n",
    "print(type(rdd))\n",
    "schema = ['Name', 'Age', 'Gender']\n",
    "df = rdd_split.toDF(schema)\n",
    "df.rdd.collect()\n",
    "\n"
   ]
  },
  {
   "cell_type": "code",
   "execution_count": null,
   "metadata": {},
   "outputs": [],
   "source": [
    "# word count\n",
    "\n",
    "wordCount = Path() / 'Datasets' / 'wordCount.txt'\n",
    "rdd = sc.textFile(str(wordCount))\n",
    "rdd.collect()\n",
    "\n",
    "rdd2 = rdd.filter(lambda x : x != '')\n",
    "print(rdd2.collect())\n",
    "\n",
    "rdd.flatMap(lambda x : x.split(' '))\\\n",
    "    .map(lambda x : (x,1))\\\n",
    "    .reduceByKey(lambda x, y: x + y)\\\n",
    "    .filter(lambda x : int(x.split(',')[1]) > 1).collect()\n",
    "\n"
   ]
  },
  {
   "cell_type": "code",
   "execution_count": null,
   "metadata": {},
   "outputs": [],
   "source": [
    "'''\n",
    "counts = rdd.flatMap(lambda line: line.split(\",\")) \\\n",
    "                            .map(lambda word: (word, 1)) \\\n",
    "                           .reduceByKey(lambda x, y: x + y)\n",
    "output = counts.collect()\n",
    "print(output)\n",
    "'''\n",
    "\n",
    "\n",
    "#rdd.flatMap(lambda x : x.split(',')).collect()"
   ]
  }
 ],
 "metadata": {
  "kernelspec": {
   "display_name": "base",
   "language": "python",
   "name": "python3"
  },
  "language_info": {
   "codemirror_mode": {
    "name": "ipython",
    "version": 3
   },
   "file_extension": ".py",
   "mimetype": "text/x-python",
   "name": "python",
   "nbconvert_exporter": "python",
   "pygments_lexer": "ipython3",
   "version": "3.11.7"
  }
 },
 "nbformat": 4,
 "nbformat_minor": 2
}
