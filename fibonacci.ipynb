{
 "cells": [
  {
   "cell_type": "code",
   "execution_count": 1,
   "metadata": {},
   "outputs": [
    {
     "name": "stdout",
     "output_type": "stream",
     "text": [
      "1 2 3 5 8 13 21 34 55 89 \n"
     ]
    }
   ],
   "source": [
    "n = 10\n",
    "num1 = 0\n",
    "num2 = 1\n",
    "next_number = num2 \n",
    "count = 1\n",
    "\n",
    "while count <= n:\n",
    "\tprint(next_number, end=\" \")\n",
    "\tcount += 1\n",
    "\tnum1, num2 = num2, next_number\n",
    "\tnext_number = num1 + num2\n",
    "print()\n"
   ]
  },
  {
   "cell_type": "code",
   "execution_count": 2,
   "metadata": {},
   "outputs": [
    {
     "name": "stdout",
     "output_type": "stream",
     "text": [
      "34\n"
     ]
    }
   ],
   "source": [
    "def fibonacci(n):\n",
    "    a = 0\n",
    "    b = 1\n",
    "     \n",
    "    # Check is n is less\n",
    "    # than 0\n",
    "    if n < 0:\n",
    "        print(\"Incorrect input\")\n",
    "         \n",
    "    # Check is n is equal\n",
    "    # to 0\n",
    "    elif n == 0:\n",
    "        return 0\n",
    "       \n",
    "    # Check if n is equal to 1\n",
    "    elif n == 1:\n",
    "        return b\n",
    "    else:\n",
    "        for i in range(1, n):\n",
    "            c = a + b\n",
    "            a = b\n",
    "            b = c\n",
    "        return b\n",
    "    \n",
    "print(fibonacci(9))"
   ]
  },
  {
   "cell_type": "code",
   "execution_count": 4,
   "metadata": {},
   "outputs": [
    {
     "name": "stdout",
     "output_type": "stream",
     "text": [
      "1\n",
      "2\n",
      "3\n",
      "5\n",
      "8\n",
      "13\n",
      "21\n",
      "34\n",
      "55\n"
     ]
    }
   ],
   "source": [
    "count = 1\n",
    "n = 9\n",
    "n1 = 0\n",
    "n2 = 1\n",
    "list = [n1, n2]\n",
    "\n",
    "sum = 0\n",
    "while count <= n:\n",
    "    count += 1\n",
    "    sum = n1 + n2\n",
    "    n1 = n2\n",
    "    n2 = sum\n",
    "    list.append(sum)\n",
    "    print(sum)"
   ]
  },
  {
   "cell_type": "code",
   "execution_count": null,
   "metadata": {},
   "outputs": [],
   "source": []
  }
 ],
 "metadata": {
  "kernelspec": {
   "display_name": "base",
   "language": "python",
   "name": "python3"
  },
  "language_info": {
   "codemirror_mode": {
    "name": "ipython",
    "version": 3
   },
   "file_extension": ".py",
   "mimetype": "text/x-python",
   "name": "python",
   "nbconvert_exporter": "python",
   "pygments_lexer": "ipython3",
   "version": "3.11.7"
  }
 },
 "nbformat": 4,
 "nbformat_minor": 2
}
