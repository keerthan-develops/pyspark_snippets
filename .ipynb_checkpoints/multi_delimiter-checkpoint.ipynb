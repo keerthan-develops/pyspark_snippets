{
 "cells": [
  {
   "cell_type": "code",
   "execution_count": 12,
   "id": "2fd5a7b2-f3a3-4ca8-9b5b-c3624a70dda4",
   "metadata": {},
   "outputs": [],
   "source": [
    "import findspark\n",
    "findspark.init()\n",
    "from pyspark.sql import SparkSession, types"
   ]
  },
  {
   "cell_type": "code",
   "execution_count": 19,
   "id": "79671f00-8bd6-4aa2-965a-34b11e9ae3a9",
   "metadata": {},
   "outputs": [
    {
     "name": "stderr",
     "output_type": "stream",
     "text": [
      "24/03/17 13:52:21 WARN SparkSession: Using an existing Spark session; only runtime SQL configurations will take effect.\n"
     ]
    }
   ],
   "source": [
    "spark = SparkSession.builder\\\n",
    ".master('local').appName('Multi Delimiter').getOrCreate()"
   ]
  },
  {
   "cell_type": "code",
   "execution_count": 20,
   "id": "53521625-f0ce-4166-8e5d-8c41dd589bef",
   "metadata": {},
   "outputs": [],
   "source": [
    "sc=spark.sparkContext"
   ]
  },
  {
   "cell_type": "code",
   "execution_count": 36,
   "id": "faa186f8-2d63-426c-8ac2-8cdd930584ed",
   "metadata": {},
   "outputs": [],
   "source": [
    "rdd = sc.textFile('multi_delim.txt')"
   ]
  },
  {
   "cell_type": "code",
   "execution_count": 37,
   "id": "d735621f-adf6-48f3-9971-fc1bea76ec98",
   "metadata": {},
   "outputs": [
    {
     "data": {
      "text/plain": [
       "['Name~|Age~|Gender', 'Keerthan, Adivikolanu~|29~|M', 'Harika, Vemula~|28~|F']"
      ]
     },
     "execution_count": 37,
     "metadata": {},
     "output_type": "execute_result"
    }
   ],
   "source": [
    "rdd.collect()"
   ]
  },
  {
   "cell_type": "code",
   "execution_count": 53,
   "id": "6de0cb70-a68b-47f4-b84e-c494b3ddc244",
   "metadata": {},
   "outputs": [
    {
     "name": "stdout",
     "output_type": "stream",
     "text": [
      "['Name', 'Age', 'Gender']\n"
     ]
    }
   ],
   "source": [
    "header_str = rdd.first()\n",
    "schema = header_str.split('~|')\n",
    "print(schema)"
   ]
  },
  {
   "cell_type": "code",
   "execution_count": 59,
   "id": "2f928e77-67c2-484d-b8e6-32571cdc424c",
   "metadata": {},
   "outputs": [
    {
     "name": "stdout",
     "output_type": "stream",
     "text": [
      "<class 'list'>\n"
     ]
    },
    {
     "data": {
      "text/plain": [
       "['Keerthan, Adivikolanu~|29~|M', 'Harika, Vemula~|28~|F']"
      ]
     },
     "execution_count": 59,
     "metadata": {},
     "output_type": "execute_result"
    }
   ],
   "source": [
    "detail_rdd = rdd.filter(lambda x: not x.startswith('Name'))\n",
    "print(type(detail_rdd.collect()))\n",
    "detail_rdd.collect()"
   ]
  },
  {
   "cell_type": "code",
   "execution_count": 66,
   "id": "5b73a08d-fa44-44b2-bf9e-b9122672703c",
   "metadata": {},
   "outputs": [
    {
     "data": {
      "text/plain": [
       "[['Keerthan, Adivikolanu', '29', 'M'], ['Harika, Vemula', '28', 'F']]"
      ]
     },
     "execution_count": 66,
     "metadata": {},
     "output_type": "execute_result"
    }
   ],
   "source": [
    "detail_final_rdd = detail_rdd.map(lambda x: x.split('~|'))\n",
    "#collect_detail = detail_final_rdd.collect()\n",
    "#print(type(detail_final_rdd))\n",
    "#print(type(collect_detail))\n",
    "detail_final_rdd.collect()"
   ]
  },
  {
   "cell_type": "code",
   "execution_count": 64,
   "id": "1987da1f-2ebf-4134-a3ee-668af1ea3506",
   "metadata": {},
   "outputs": [],
   "source": [
    "df = detail_final_rdd.toDF(schema)"
   ]
  },
  {
   "cell_type": "code",
   "execution_count": 65,
   "id": "f7f3d1ed-46b0-4e51-97db-fc6957057a7a",
   "metadata": {},
   "outputs": [
    {
     "name": "stdout",
     "output_type": "stream",
     "text": [
      "+---------------------+---+------+\n",
      "|Name                 |Age|Gender|\n",
      "+---------------------+---+------+\n",
      "|Keerthan, Adivikolanu|29 |M     |\n",
      "|Harika, Vemula       |28 |F     |\n",
      "+---------------------+---+------+\n",
      "\n"
     ]
    }
   ],
   "source": [
    "df.show(truncate=0)"
   ]
  },
  {
   "cell_type": "code",
   "execution_count": null,
   "id": "40870545-1d47-494f-81bb-e49c989dd899",
   "metadata": {},
   "outputs": [],
   "source": []
  }
 ],
 "metadata": {
  "kernelspec": {
   "display_name": "Python 3 (ipykernel)",
   "language": "python",
   "name": "python3"
  },
  "language_info": {
   "codemirror_mode": {
    "name": "ipython",
    "version": 3
   },
   "file_extension": ".py",
   "mimetype": "text/x-python",
   "name": "python",
   "nbconvert_exporter": "python",
   "pygments_lexer": "ipython3",
   "version": "3.11.7"
  }
 },
 "nbformat": 4,
 "nbformat_minor": 5
}
