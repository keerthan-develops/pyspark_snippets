{
 "cells": [
  {
   "cell_type": "code",
   "execution_count": null,
   "metadata": {},
   "outputs": [],
   "source": [
    "fromimport StructType, StructField, StringType, IntegerType pyspark.sql import SparkSession, types\n",
    "from pyspark.sql.functions import regexp_replace, lit, split, explode, col, aggregate, collect_list\n",
    "import pyspark.sql.functions as f\n",
    "from pyspark.sql.types "
   ]
  },
  {
   "cell_type": "code",
   "execution_count": null,
   "metadata": {},
   "outputs": [],
   "source": [
    "spark = SparkSession.builder.appName(\"collect list\").getOrCreate()"
   ]
  },
  {
   "cell_type": "code",
   "execution_count": null,
   "metadata": {},
   "outputs": [],
   "source": [
    "data = [\n",
    "    (\"john\", \"tomato\", 2),\n",
    "    (\"𝚋𝚒𝚕𝚕\", \"𝚊𝚙𝚙𝚕𝚎\", 2),\n",
    "    (\"john\", \"𝚋𝚊𝚗𝚊𝚗𝚊\", 2),\n",
    "    (\"john\", \"tomato\", 3),\n",
    "    (\"𝚋𝚒𝚕𝚕\", \"𝚝𝚊𝚌𝚘\", 2),\n",
    "    (\"𝚋𝚒𝚕𝚕\", \"𝚊𝚙𝚙𝚕𝚎\", 2),\n",
    "]\n",
    "schema = \"name string,item string,weight int\"\n",
    "df = spark.createDataFrame(data, schema)\n",
    "\n",
    "df.printSchema()"
   ]
  },
  {
   "cell_type": "code",
   "execution_count": null,
   "metadata": {},
   "outputs": [],
   "source": [
    "df2 = df.groupBy('name', 'item').agg(sum('weight').alias('sum_weight'))\n",
    "df2"
   ]
  },
  {
   "cell_type": "code",
   "execution_count": null,
   "metadata": {},
   "outputs": [],
   "source": [
    "df2.groupBy('name').agg(f.collect_list('item')).show(2,0)"
   ]
  },
  {
   "cell_type": "code",
   "execution_count": null,
   "metadata": {},
   "outputs": [],
   "source": [
    "df2.groupBy('name').agg(f.collect_list(f.struct('item', 'sum_weight'))).show(2,0)"
   ]
  },
  {
   "cell_type": "code",
   "execution_count": null,
   "metadata": {},
   "outputs": [],
   "source": [
    "df3 = df2.groupBy('name').agg(f.collect_list(f.struct('item', 'sum_weight')))"
   ]
  },
  {
   "cell_type": "code",
   "execution_count": null,
   "metadata": {},
   "outputs": [],
   "source": [
    "df3.schema.json()"
   ]
  },
  {
   "cell_type": "code",
   "execution_count": null,
   "metadata": {},
   "outputs": [],
   "source": [
    "schema = StructType([\n",
    "    StructField('name', StringType(), True), \n",
    "    StructField('collect_list(struct(item, sum_weight))', \n",
    "                ArrayType(StructType([StructField('item', StringType(), True), StructField('sum_weight', LongType(), True)]), False), False)\n",
    "                ])"
   ]
  },
  {
   "cell_type": "code",
   "execution_count": null,
   "metadata": {},
   "outputs": [],
   "source": [
    "{\"fields\":[{\"metadata\":{},\"name\":\"name\",\"nullable\":true,\"type\":\"string\"},{\"metadata\":{},\"name\":\"collect_list(struct(item, sum_weight))\",\"nullable\":false,\"type\":{\"containsNull\":false,\"elementType\":{\"fields\":[{\"metadata\":{},\"name\":\"item\",\"nullable\":true,\"type\":\"string\"},{\"metadata\":{},\"name\":\"sum_weight\",\"nullable\":true,\"type\":\"long\"}],\"type\":\"struct\"},\"type\":\"array\"}}],\"type\":\"struct\"}"
   ]
  }
 ],
 "metadata": {
  "kernelspec": {
   "display_name": "base",
   "language": "python",
   "name": "python3"
  },
  "language_info": {
   "codemirror_mode": {
    "name": "ipython",
    "version": 3
   },
   "file_extension": ".py",
   "mimetype": "text/x-python",
   "name": "python",
   "nbconvert_exporter": "python",
   "pygments_lexer": "ipython3",
   "version": "3.11.7"
  }
 },
 "nbformat": 4,
 "nbformat_minor": 2
}
