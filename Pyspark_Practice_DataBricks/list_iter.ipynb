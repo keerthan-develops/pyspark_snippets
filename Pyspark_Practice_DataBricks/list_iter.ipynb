{
 "cells": [
  {
   "cell_type": "code",
   "execution_count": 1,
   "metadata": {},
   "outputs": [
    {
     "data": {
      "text/plain": [
       "8"
      ]
     },
     "execution_count": 1,
     "metadata": {},
     "output_type": "execute_result"
    }
   ],
   "source": [
    "input = [99, 28, 12, 55, 13, 15, 76, 99]\n",
    "len(input)"
   ]
  },
  {
   "cell_type": "code",
   "execution_count": 15,
   "metadata": {},
   "outputs": [
    {
     "name": "stdout",
     "output_type": "stream",
     "text": [
      "For index = 0\n",
      "99 0 []\n",
      "For index = 1\n",
      "28 3 [55, 76, 99]\n",
      "For index = 2\n",
      "12 5 [55, 13, 15, 76, 99]\n",
      "For index = 3\n",
      "55 2 [76, 99]\n",
      "For index = 4\n",
      "13 3 [15, 76, 99]\n",
      "For index = 5\n",
      "15 2 [76, 99]\n",
      "For index = 6\n",
      "76 1 [99]\n",
      "For index = 7\n",
      "99 0 []\n"
     ]
    }
   ],
   "source": [
    "def find_greater(input, idx, x):\n",
    "    print(f'For index = {idx}')\n",
    "    result = []\n",
    "    for idx2 in range(idx, len(input)):\n",
    "        y = input[idx2]\n",
    "        if y > x:\n",
    "            result.append(y)\n",
    "    return result\n",
    "        \n",
    "\n",
    "for idx, x in enumerate(input, start=0):\n",
    "    out_list = find_greater(input, idx, x)\n",
    "    print(f\"{x} {len(out_list)} {out_list}\")"
   ]
  },
  {
   "cell_type": "code",
   "execution_count": null,
   "metadata": {},
   "outputs": [],
   "source": []
  }
 ],
 "metadata": {
  "kernelspec": {
   "display_name": "base",
   "language": "python",
   "name": "python3"
  },
  "language_info": {
   "codemirror_mode": {
    "name": "ipython",
    "version": 3
   },
   "file_extension": ".py",
   "mimetype": "text/x-python",
   "name": "python",
   "nbconvert_exporter": "python",
   "pygments_lexer": "ipython3",
   "version": "3.11.7"
  }
 },
 "nbformat": 4,
 "nbformat_minor": 2
}
